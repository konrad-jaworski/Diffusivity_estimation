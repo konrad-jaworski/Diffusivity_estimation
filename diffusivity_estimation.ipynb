{
 "cells": [
  {
   "cell_type": "code",
   "execution_count": 1,
   "id": "ee306cf5",
   "metadata": {},
   "outputs": [],
   "source": [
    "import numpy as np\n",
    "import matplotlib.pyplot as plt\n",
    "import torch\n",
    "from networks import DiffusionNetwork\n",
    "from loss_function import GradCalc"
   ]
  },
  {
   "cell_type": "code",
   "execution_count": 3,
   "id": "851ae4ec",
   "metadata": {},
   "outputs": [],
   "source": [
    "operator = GradCalc()"
   ]
  },
  {
   "cell_type": "code",
   "execution_count": 4,
   "id": "fe3d578e",
   "metadata": {},
   "outputs": [],
   "source": [
    "x = torch.tensor([2.0, 3.0], requires_grad=True)\n",
    "y = (x**2).sum()"
   ]
  },
  {
   "cell_type": "code",
   "execution_count": 5,
   "id": "b24dfedd",
   "metadata": {},
   "outputs": [
    {
     "data": {
      "text/plain": [
       "torch.Size([2])"
      ]
     },
     "execution_count": 5,
     "metadata": {},
     "output_type": "execute_result"
    }
   ],
   "source": [
    "result = operator.gradient(y, x)\n",
    "result.size()"
   ]
  },
  {
   "cell_type": "code",
   "execution_count": null,
   "id": "ef044d84",
   "metadata": {},
   "outputs": [],
   "source": []
  },
  {
   "cell_type": "code",
   "execution_count": null,
   "id": "09018ae4",
   "metadata": {},
   "outputs": [],
   "source": []
  }
 ],
 "metadata": {
  "kernelspec": {
   "display_name": "venv",
   "language": "python",
   "name": "python3"
  },
  "language_info": {
   "codemirror_mode": {
    "name": "ipython",
    "version": 3
   },
   "file_extension": ".py",
   "mimetype": "text/x-python",
   "name": "python",
   "nbconvert_exporter": "python",
   "pygments_lexer": "ipython3",
   "version": "3.11.9"
  }
 },
 "nbformat": 4,
 "nbformat_minor": 5
}
